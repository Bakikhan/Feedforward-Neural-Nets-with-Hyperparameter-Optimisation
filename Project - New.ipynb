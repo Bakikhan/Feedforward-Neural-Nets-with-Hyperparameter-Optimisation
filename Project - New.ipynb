{
 "cells": [
  {
   "cell_type": "markdown",
   "metadata": {},
   "source": [
    "# Neural Networks"
   ]
  },
  {
   "cell_type": "code",
   "execution_count": 1,
   "metadata": {},
   "outputs": [],
   "source": [
    "# Import packages\n",
    "import numpy as np\n",
    "import pandas as pd\n",
    "import matplotlib.pyplot as plt\n",
    "import seaborn as sns\n",
    "from sklearn.model_selection import train_test_split\n",
    "from sklearn.model_selection import cross_val_score\n",
    "from keras.models import Sequential\n",
    "from keras.layers import Dense, BatchNormalization, Dropout\n",
    "from tensorflow.keras.optimizers import Adam, SGD, RMSprop, Adadelta, Adagrad, Adamax, Nadam, Ftrl\n",
    "from keras.callbacks import EarlyStopping, ModelCheckpoint\n",
    "from keras.wrappers.scikit_learn import KerasClassifier\n",
    "from math import floor\n",
    "from sklearn.metrics import make_scorer, accuracy_score\n",
    "from bayes_opt import BayesianOptimization\n",
    "from sklearn.model_selection import StratifiedKFold\n",
    "from keras.layers import LeakyReLU\n",
    "LeakyReLU = LeakyReLU(alpha=0.1)\n",
    "import warnings\n",
    "warnings.filterwarnings('ignore')\n",
    "pd.set_option(\"display.max_columns\", None)"
   ]
  },
  {
   "cell_type": "code",
   "execution_count": 2,
   "metadata": {},
   "outputs": [],
   "source": [
    "# Make scorer accuracy\n",
    "score_acc = make_scorer(accuracy_score)"
   ]
  },
  {
   "cell_type": "code",
   "execution_count": 3,
   "metadata": {},
   "outputs": [],
   "source": [
    "# Load dataset\n",
    "trainSet = pd.read_csv('train.csv')\n",
    "# Feature generation: training data\n",
    "train = trainSet.drop(columns=['Name', 'Ticket', 'Cabin'])\n",
    "train = train.dropna(axis=0)\n",
    "train = pd.get_dummies(train)\n",
    "# train validation split\n",
    "X_train, X_val, y_train, y_val = train_test_split(train.drop(columns=['PassengerId','Survived'], axis=0),\n",
    "                                                  train['Survived'],\n",
    "                                                  test_size=0.2, random_state=150,\n",
    "                                                  stratify=train['Survived'])"
   ]
  },
  {
   "cell_type": "code",
   "execution_count": 4,
   "metadata": {},
   "outputs": [],
   "source": [
    "# Create function\n",
    "def hyperpara_func(neurons, activation, optimizer, learning_rate,  batch_size, epochs ):\n",
    "    optimizerL = ['SGD', 'Adam', 'RMSprop', 'Adadelta', 'Adagrad', 'Adamax', 'Nadam', 'Ftrl','SGD']\n",
    "    optimizerD= {'Adam':Adam(lr=learning_rate), 'SGD':SGD(lr=learning_rate),\n",
    "                 'RMSprop':RMSprop(lr=learning_rate), 'Adadelta':Adadelta(lr=learning_rate),\n",
    "                 'Adagrad':Adagrad(lr=learning_rate), 'Adamax':Adamax(lr=learning_rate),\n",
    "                 'Nadam':Nadam(lr=learning_rate), 'Ftrl':Ftrl(lr=learning_rate)}\n",
    "    activationL = ['relu', 'sigmoid', 'softplus', 'softsign', 'tanh', 'selu',\n",
    "                   'elu', 'exponential', LeakyReLU,'relu']\n",
    "    neurons = round(neurons)\n",
    "    activation = activationL[round(activation)]\n",
    "    batch_size = round(batch_size)\n",
    "    epochs = round(epochs)\n",
    "    def nn_func():\n",
    "        opt = Adam(lr = learning_rate)\n",
    "        nn = Sequential()\n",
    "        nn.add(Dense(neurons, input_dim=10, activation=activation))\n",
    "        nn.add(Dense(neurons, activation=activation))\n",
    "        nn.add(Dense(1, activation='sigmoid'))\n",
    "        nn.compile(loss='binary_crossentropy', optimizer=opt, metrics=['accuracy'])\n",
    "        return nn\n",
    "    Early_stopping = EarlyStopping(monitor='accuracy', mode='max', verbose=0, patience=20)\n",
    "    nn = KerasClassifier(build_fn=nn_func, epochs=epochs, batch_size=batch_size,\n",
    "                         verbose=0)\n",
    "    kfold = StratifiedKFold(n_splits=5, shuffle=True, random_state=150)\n",
    "    score = cross_val_score(nn, X_train, y_train, scoring=score_acc, cv=kfold, fit_params={'callbacks':[Early_stopping]}).mean()\n",
    "    return score"
   ]
  },
  {
   "cell_type": "code",
   "execution_count": 5,
   "metadata": {},
   "outputs": [
    {
     "name": "stdout",
     "output_type": "stream",
     "text": [
      "|   iter    |  target   | activa... | batch_... |  epochs   | learni... |  neurons  | optimizer |\n",
      "-------------------------------------------------------------------------------------------------\n",
      "| \u001b[0m 1       \u001b[0m | \u001b[0m 0.7626  \u001b[0m | \u001b[0m 8.177   \u001b[0m | \u001b[0m 265.4   \u001b[0m | \u001b[0m 88.99   \u001b[0m | \u001b[0m 0.7416  \u001b[0m | \u001b[0m 71.32   \u001b[0m | \u001b[0m 3.62    \u001b[0m |\n",
      "| \u001b[0m 2       \u001b[0m | \u001b[0m 0.5186  \u001b[0m | \u001b[0m 8.569   \u001b[0m | \u001b[0m 914.5   \u001b[0m | \u001b[0m 17.04   \u001b[0m | \u001b[0m 0.7845  \u001b[0m | \u001b[0m 15.8    \u001b[0m | \u001b[0m 4.486   \u001b[0m |\n",
      "| \u001b[0m 3       \u001b[0m | \u001b[0m 0.5958  \u001b[0m | \u001b[0m 0.7179  \u001b[0m | \u001b[0m 239.6   \u001b[0m | \u001b[0m 44.74   \u001b[0m | \u001b[0m 0.2444  \u001b[0m | \u001b[0m 99.85   \u001b[0m | \u001b[0m 2.725   \u001b[0m |\n",
      "| \u001b[0m 4       \u001b[0m | \u001b[0m 0.5958  \u001b[0m | \u001b[0m 6.515   \u001b[0m | \u001b[0m 457.2   \u001b[0m | \u001b[0m 52.92   \u001b[0m | \u001b[0m 0.5498  \u001b[0m | \u001b[0m 46.12   \u001b[0m | \u001b[0m 4.128   \u001b[0m |\n",
      "| \u001b[0m 5       \u001b[0m | \u001b[0m 0.5586  \u001b[0m | \u001b[0m 0.9447  \u001b[0m | \u001b[0m 862.5   \u001b[0m | \u001b[0m 37.72   \u001b[0m | \u001b[0m 0.4918  \u001b[0m | \u001b[0m 24.96   \u001b[0m | \u001b[0m 4.341   \u001b[0m |\n",
      "| \u001b[0m 6       \u001b[0m | \u001b[0m 0.5327  \u001b[0m | \u001b[0m 3.072   \u001b[0m | \u001b[0m 499.6   \u001b[0m | \u001b[0m 37.66   \u001b[0m | \u001b[0m 0.4234  \u001b[0m | \u001b[0m 77.22   \u001b[0m | \u001b[0m 0.2866  \u001b[0m |\n",
      "| \u001b[0m 7       \u001b[0m | \u001b[0m 0.5572  \u001b[0m | \u001b[0m 4.499   \u001b[0m | \u001b[0m 814.6   \u001b[0m | \u001b[0m 56.83   \u001b[0m | \u001b[0m 0.4372  \u001b[0m | \u001b[0m 75.18   \u001b[0m | \u001b[0m 5.2     \u001b[0m |\n",
      "| \u001b[0m 8       \u001b[0m | \u001b[0m 0.7101  \u001b[0m | \u001b[0m 7.928   \u001b[0m | \u001b[0m 982.7   \u001b[0m | \u001b[0m 29.79   \u001b[0m | \u001b[0m 0.1024  \u001b[0m | \u001b[0m 18.84   \u001b[0m | \u001b[0m 2.876   \u001b[0m |\n",
      "| \u001b[0m 9       \u001b[0m | \u001b[0m 0.52    \u001b[0m | \u001b[0m 3.224   \u001b[0m | \u001b[0m 972.1   \u001b[0m | \u001b[0m 69.15   \u001b[0m | \u001b[0m 0.675   \u001b[0m | \u001b[0m 75.31   \u001b[0m | \u001b[0m 4.459   \u001b[0m |\n",
      "| \u001b[0m 10      \u001b[0m | \u001b[0m 0.701   \u001b[0m | \u001b[0m 8.076   \u001b[0m | \u001b[0m 326.0   \u001b[0m | \u001b[0m 20.63   \u001b[0m | \u001b[0m 0.2376  \u001b[0m | \u001b[0m 14.78   \u001b[0m | \u001b[0m 6.801   \u001b[0m |\n",
      "| \u001b[0m 11      \u001b[0m | \u001b[0m 0.52    \u001b[0m | \u001b[0m 4.17    \u001b[0m | \u001b[0m 221.5   \u001b[0m | \u001b[0m 50.87   \u001b[0m | \u001b[0m 0.9994  \u001b[0m | \u001b[0m 14.4    \u001b[0m | \u001b[0m 1.661   \u001b[0m |\n",
      "| \u001b[0m 12      \u001b[0m | \u001b[0m 0.5975  \u001b[0m | \u001b[0m 1.209   \u001b[0m | \u001b[0m 727.4   \u001b[0m | \u001b[0m 40.88   \u001b[0m | \u001b[0m 0.09728 \u001b[0m | \u001b[0m 84.42   \u001b[0m | \u001b[0m 0.8337  \u001b[0m |\n",
      "| \u001b[0m 13      \u001b[0m | \u001b[0m 0.6628  \u001b[0m | \u001b[0m 0.3152  \u001b[0m | \u001b[0m 189.8   \u001b[0m | \u001b[0m 97.54   \u001b[0m | \u001b[0m 0.2209  \u001b[0m | \u001b[0m 52.55   \u001b[0m | \u001b[0m 5.887   \u001b[0m |\n",
      "| \u001b[0m 14      \u001b[0m | \u001b[0m 0.6168  \u001b[0m | \u001b[0m 4.137   \u001b[0m | \u001b[0m 789.7   \u001b[0m | \u001b[0m 27.34   \u001b[0m | \u001b[0m 0.2136  \u001b[0m | \u001b[0m 90.65   \u001b[0m | \u001b[0m 4.396   \u001b[0m |\n",
      "| \u001b[0m 15      \u001b[0m | \u001b[0m 0.7116  \u001b[0m | \u001b[0m 3.117   \u001b[0m | \u001b[0m 466.9   \u001b[0m | \u001b[0m 64.53   \u001b[0m | \u001b[0m 0.1693  \u001b[0m | \u001b[0m 73.96   \u001b[0m | \u001b[0m 1.119   \u001b[0m |\n",
      "| \u001b[0m 16      \u001b[0m | \u001b[0m 0.5572  \u001b[0m | \u001b[0m 3.934   \u001b[0m | \u001b[0m 339.1   \u001b[0m | \u001b[0m 43.36   \u001b[0m | \u001b[0m 0.5573  \u001b[0m | \u001b[0m 22.57   \u001b[0m | \u001b[0m 2.156   \u001b[0m |\n",
      "| \u001b[0m 17      \u001b[0m | \u001b[0m 0.5958  \u001b[0m | \u001b[0m 0.8258  \u001b[0m | \u001b[0m 778.5   \u001b[0m | \u001b[0m 69.95   \u001b[0m | \u001b[0m 0.4055  \u001b[0m | \u001b[0m 29.69   \u001b[0m | \u001b[0m 4.391   \u001b[0m |\n",
      "| \u001b[0m 18      \u001b[0m | \u001b[0m 0.6414  \u001b[0m | \u001b[0m 7.704   \u001b[0m | \u001b[0m 469.1   \u001b[0m | \u001b[0m 36.82   \u001b[0m | \u001b[0m 0.1643  \u001b[0m | \u001b[0m 49.67   \u001b[0m | \u001b[0m 1.709   \u001b[0m |\n",
      "| \u001b[95m 19      \u001b[0m | \u001b[95m 0.7697  \u001b[0m | \u001b[95m 3.193   \u001b[0m | \u001b[95m 489.4   \u001b[0m | \u001b[95m 90.67   \u001b[0m | \u001b[95m 0.1972  \u001b[0m | \u001b[95m 16.02   \u001b[0m | \u001b[95m 1.899   \u001b[0m |\n",
      "| \u001b[0m 20      \u001b[0m | \u001b[0m 0.5572  \u001b[0m | \u001b[0m 1.322   \u001b[0m | \u001b[0m 619.0   \u001b[0m | \u001b[0m 95.58   \u001b[0m | \u001b[0m 0.99    \u001b[0m | \u001b[0m 37.56   \u001b[0m | \u001b[0m 5.295   \u001b[0m |\n",
      "| \u001b[0m 21      \u001b[0m | \u001b[0m 0.5586  \u001b[0m | \u001b[0m 2.181   \u001b[0m | \u001b[0m 651.4   \u001b[0m | \u001b[0m 32.41   \u001b[0m | \u001b[0m 0.4751  \u001b[0m | \u001b[0m 63.58   \u001b[0m | \u001b[0m 5.288   \u001b[0m |\n",
      "| \u001b[0m 22      \u001b[0m | \u001b[0m 0.5572  \u001b[0m | \u001b[0m 1.65    \u001b[0m | \u001b[0m 281.2   \u001b[0m | \u001b[0m 44.76   \u001b[0m | \u001b[0m 0.7048  \u001b[0m | \u001b[0m 98.15   \u001b[0m | \u001b[0m 2.123   \u001b[0m |\n",
      "| \u001b[0m 23      \u001b[0m | \u001b[0m 0.7487  \u001b[0m | \u001b[0m 7.522   \u001b[0m | \u001b[0m 797.3   \u001b[0m | \u001b[0m 47.65   \u001b[0m | \u001b[0m 0.06904 \u001b[0m | \u001b[0m 40.66   \u001b[0m | \u001b[0m 5.475   \u001b[0m |\n",
      "| \u001b[0m 24      \u001b[0m | \u001b[0m 0.5748  \u001b[0m | \u001b[0m 5.746   \u001b[0m | \u001b[0m 416.9   \u001b[0m | \u001b[0m 16.15   \u001b[0m | \u001b[0m 0.6451  \u001b[0m | \u001b[0m 91.84   \u001b[0m | \u001b[0m 1.225   \u001b[0m |\n",
      "| \u001b[0m 25      \u001b[0m | \u001b[0m 0.6889  \u001b[0m | \u001b[0m 7.622   \u001b[0m | \u001b[0m 477.4   \u001b[0m | \u001b[0m 65.04   \u001b[0m | \u001b[0m 0.4304  \u001b[0m | \u001b[0m 72.07   \u001b[0m | \u001b[0m 2.808   \u001b[0m |\n"
     ]
    }
   ],
   "source": [
    "# Set paramaters\n",
    "neuralnetworks_parameters ={\n",
    "    'neurons': (5, 100),\n",
    "    'activation':(0, 9),\n",
    "    'optimizer':(0,7),\n",
    "    'learning_rate':(0.01, 1),\n",
    "    'batch_size':(10, 1000),\n",
    "    'epochs':(10, 100)\n",
    "}\n",
    "# Run Bayesian Optimization\n",
    "try:\n",
    "    nn_bo = BayesianOptimization(hyperpara_func, neuralnetworks_parameters, random_state=150)\n",
    "    nn_bo.maximize(init_points=25, n_iter=4)\n",
    "except TypeError:\n",
    "    pass"
   ]
  },
  {
   "cell_type": "code",
   "execution_count": 6,
   "metadata": {},
   "outputs": [
    {
     "data": {
      "text/plain": [
       "{'activation': 'softsign',\n",
       " 'batch_size': 489.3595378673304,\n",
       " 'epochs': 90.66800526898291,\n",
       " 'learning_rate': 0.19717187151649088,\n",
       " 'neurons': 16.021963199249825,\n",
       " 'optimizer': 1.898975085713869}"
      ]
     },
     "execution_count": 6,
     "metadata": {},
     "output_type": "execute_result"
    }
   ],
   "source": [
    "neuralnetworks_parameters_ = nn_bo.max['params']\n",
    "activationL = ['relu', 'sigmoid', 'softplus', 'softsign', 'tanh', 'selu',\n",
    "               'elu', 'exponential', LeakyReLU,'relu']\n",
    "neuralnetworks_parameters_['activation'] = activationL[round(neuralnetworks_parameters_['activation'])]\n",
    "neuralnetworks_parameters_"
   ]
  },
  {
   "cell_type": "code",
   "execution_count": 7,
   "metadata": {},
   "outputs": [],
   "source": [
    "# Create function\n",
    "def layer_func(neurons, activation, optimizer, learning_rate, batch_size, epochs,\n",
    "              layers1, layers2, normalization, dropout, dropout_rate):\n",
    "    optimizerL = ['SGD', 'Adam', 'RMSprop', 'Adadelta', 'Adagrad', 'Adamax', 'Nadam', 'Ftrl','SGD']\n",
    "    optimizerD= {'Adam':Adam(lr=learning_rate), 'SGD':SGD(lr=learning_rate),\n",
    "                 'RMSprop':RMSprop(lr=learning_rate), 'Adadelta':Adadelta(lr=learning_rate),\n",
    "                 'Adagrad':Adagrad(lr=learning_rate), 'Adamax':Adamax(lr=learning_rate),\n",
    "                 'Nadam':Nadam(lr=learning_rate), 'Ftrl':Ftrl(lr=learning_rate)}\n",
    "    activationL = ['relu', 'sigmoid', 'softplus', 'softsign', 'tanh', 'selu',\n",
    "                   'elu', 'exponential', LeakyReLU,'relu']\n",
    "    neurons = round(neurons)\n",
    "    activation = activationL[round(activation)]\n",
    "    optimizer = optimizerD[optimizerL[round(optimizer)]]\n",
    "    batch_size = round(batch_size)\n",
    "    epochs = round(epochs)\n",
    "    layers1 = round(layers1)\n",
    "    layers2 = round(layers2)\n",
    "    def nn_func():\n",
    "        nn = Sequential()\n",
    "        nn.add(Dense(neurons, input_dim=10, activation=activation))\n",
    "        if normalization > 0.5:\n",
    "            nn.add(BatchNormalization())\n",
    "        for i in range(layers1):\n",
    "            nn.add(Dense(neurons, activation=activation))\n",
    "        if dropout > 0.5:\n",
    "            nn.add(Dropout(dropout_rate, seed=123))\n",
    "        for i in range(layers2):\n",
    "            nn.add(Dense(neurons, activation=activation))\n",
    "        nn.add(Dense(1, activation='sigmoid'))\n",
    "        nn.compile(loss='binary_crossentropy', optimizer=optimizer, metrics=['accuracy'])\n",
    "        return nn\n",
    "    Early_stopping = EarlyStopping(monitor='accuracy', mode='max', verbose=0, patience=20)\n",
    "    nn = KerasClassifier(build_fn=nn_func, epochs=epochs, batch_size=batch_size, verbose=0)\n",
    "    kfold = StratifiedKFold(n_splits=5, shuffle=True, random_state=150)\n",
    "    score = cross_val_score(nn, X_train, y_train, scoring=score_acc, cv=kfold, fit_params={'callbacks':[Early_stopping]}).mean()\n",
    "    return score"
   ]
  },
  {
   "cell_type": "code",
   "execution_count": 8,
   "metadata": {},
   "outputs": [
    {
     "name": "stdout",
     "output_type": "stream",
     "text": [
      "|   iter    |  target   | activa... | batch_... |  dropout  | dropou... |  epochs   |  layers1  |  layers2  | learni... |  neurons  | normal... | optimizer |\n",
      "-------------------------------------------------------------------------------------------------------------------------------------------------------------\n",
      "| \u001b[0m 1       \u001b[0m | \u001b[0m 0.5905  \u001b[0m | \u001b[0m 8.177   \u001b[0m | \u001b[0m 265.4   \u001b[0m | \u001b[0m 0.8777  \u001b[0m | \u001b[0m 0.2217  \u001b[0m | \u001b[0m 72.83   \u001b[0m | \u001b[0m 2.034   \u001b[0m | \u001b[0m 2.904   \u001b[0m | \u001b[0m 0.9145  \u001b[0m | \u001b[0m 12.43   \u001b[0m | \u001b[0m 0.7823  \u001b[0m | \u001b[0m 0.7957  \u001b[0m |\n",
      "| \u001b[0m 2       \u001b[0m | \u001b[0m 0.5151  \u001b[0m | \u001b[0m 5.768   \u001b[0m | \u001b[0m 88.97   \u001b[0m | \u001b[0m 0.232   \u001b[0m | \u001b[0m 0.1158  \u001b[0m | \u001b[0m 31.31   \u001b[0m | \u001b[0m 2.997   \u001b[0m | \u001b[0m 1.779   \u001b[0m | \u001b[0m 0.7266  \u001b[0m | \u001b[0m 47.92   \u001b[0m | \u001b[0m 0.4769  \u001b[0m | \u001b[0m 3.817   \u001b[0m |\n",
      "| \u001b[0m 3       \u001b[0m | \u001b[0m 0.5572  \u001b[0m | \u001b[0m 3.895   \u001b[0m | \u001b[0m 593.8   \u001b[0m | \u001b[0m 0.105   \u001b[0m | \u001b[0m 0.2583  \u001b[0m | \u001b[0m 37.72   \u001b[0m | \u001b[0m 1.973   \u001b[0m | \u001b[0m 1.42    \u001b[0m | \u001b[0m 0.6239  \u001b[0m | \u001b[0m 37.43   \u001b[0m | \u001b[0m 0.4946  \u001b[0m | \u001b[0m 2.151   \u001b[0m |\n",
      "| \u001b[95m 4       \u001b[0m | \u001b[95m 0.5958  \u001b[0m | \u001b[95m 3.758   \u001b[0m | \u001b[95m 762.6   \u001b[0m | \u001b[95m 0.04094 \u001b[0m | \u001b[95m 0.15    \u001b[0m | \u001b[95m 83.14   \u001b[0m | \u001b[95m 2.041   \u001b[0m | \u001b[95m 1.863   \u001b[0m | \u001b[95m 0.7413  \u001b[0m | \u001b[95m 75.57   \u001b[0m | \u001b[95m 0.8808  \u001b[0m | \u001b[95m 6.878   \u001b[0m |\n",
      "| \u001b[95m 5       \u001b[0m | \u001b[95m 0.5975  \u001b[0m | \u001b[95m 1.979   \u001b[0m | \u001b[95m 102.4   \u001b[0m | \u001b[95m 0.1457  \u001b[0m | \u001b[95m 0.1233  \u001b[0m | \u001b[95m 42.24   \u001b[0m | \u001b[95m 2.944   \u001b[0m | \u001b[95m 2.314   \u001b[0m | \u001b[95m 0.675   \u001b[0m | \u001b[95m 75.31   \u001b[0m | \u001b[95m 0.6371  \u001b[0m | \u001b[95m 6.282   \u001b[0m |\n",
      "| \u001b[0m 6       \u001b[0m | \u001b[0m 0.52    \u001b[0m | \u001b[0m 2.872   \u001b[0m | \u001b[0m 126.9   \u001b[0m | \u001b[0m 0.2299  \u001b[0m | \u001b[0m 0.03087 \u001b[0m | \u001b[0m 97.44   \u001b[0m | \u001b[0m 1.927   \u001b[0m | \u001b[0m 1.427   \u001b[0m | \u001b[0m 0.4595  \u001b[0m | \u001b[0m 99.95   \u001b[0m | \u001b[0m 0.09894 \u001b[0m | \u001b[0m 1.661   \u001b[0m |\n",
      "| \u001b[95m 7       \u001b[0m | \u001b[95m 0.6011  \u001b[0m | \u001b[95m 1.209   \u001b[0m | \u001b[95m 727.4   \u001b[0m | \u001b[95m 0.3431  \u001b[0m | \u001b[95m 0.02645 \u001b[0m | \u001b[95m 85.24   \u001b[0m | \u001b[95m 1.238   \u001b[0m | \u001b[95m 1.07    \u001b[0m | \u001b[95m 0.1898  \u001b[0m | \u001b[95m 97.41   \u001b[0m | \u001b[95m 0.2131  \u001b[0m | \u001b[95m 3.503   \u001b[0m |\n",
      "| \u001b[0m 8       \u001b[0m | \u001b[0m 0.4852  \u001b[0m | \u001b[0m 7.569   \u001b[0m | \u001b[0m 465.0   \u001b[0m | \u001b[0m 0.7876  \u001b[0m | \u001b[0m 0.0578  \u001b[0m | \u001b[0m 28.51   \u001b[0m | \u001b[0m 2.803   \u001b[0m | \u001b[0m 2.256   \u001b[0m | \u001b[0m 0.3529  \u001b[0m | \u001b[0m 48.84   \u001b[0m | \u001b[0m 0.6058  \u001b[0m | \u001b[0m 1.126   \u001b[0m |\n",
      "| \u001b[0m 9       \u001b[0m | \u001b[0m 0.5958  \u001b[0m | \u001b[0m 6.533   \u001b[0m | \u001b[0m 168.3   \u001b[0m | \u001b[0m 0.4371  \u001b[0m | \u001b[0m 0.09973 \u001b[0m | \u001b[0m 43.36   \u001b[0m | \u001b[0m 2.106   \u001b[0m | \u001b[0m 1.37    \u001b[0m | \u001b[0m 0.3149  \u001b[0m | \u001b[0m 13.72   \u001b[0m | \u001b[0m 0.7763  \u001b[0m | \u001b[0m 4.663   \u001b[0m |\n",
      "| \u001b[95m 10      \u001b[0m | \u001b[95m 0.7292  \u001b[0m | \u001b[95m 3.595   \u001b[0m | \u001b[95m 267.3   \u001b[0m | \u001b[95m 0.6273  \u001b[0m | \u001b[95m 0.2568  \u001b[0m | \u001b[95m 51.73   \u001b[0m | \u001b[95m 1.596   \u001b[0m | \u001b[95m 1.312   \u001b[0m | \u001b[95m 0.4756  \u001b[0m | \u001b[95m 28.2    \u001b[0m | \u001b[95m 0.3548  \u001b[0m | \u001b[95m 3.389   \u001b[0m |\n",
      "| \u001b[0m 11      \u001b[0m | \u001b[0m 0.5712  \u001b[0m | \u001b[0m 8.067   \u001b[0m | \u001b[0m 197.2   \u001b[0m | \u001b[0m 0.116   \u001b[0m | \u001b[0m 0.08138 \u001b[0m | \u001b[0m 23.22   \u001b[0m | \u001b[0m 2.23    \u001b[0m | \u001b[0m 2.902   \u001b[0m | \u001b[0m 0.99    \u001b[0m | \u001b[0m 37.56   \u001b[0m | \u001b[0m 0.7564  \u001b[0m | \u001b[0m 1.696   \u001b[0m |\n",
      "| \u001b[0m 12      \u001b[0m | \u001b[0m 0.5379  \u001b[0m | \u001b[0m 5.831   \u001b[0m | \u001b[0m 256.5   \u001b[0m | \u001b[0m 0.4698  \u001b[0m | \u001b[0m 0.185   \u001b[0m | \u001b[0m 77.99   \u001b[0m | \u001b[0m 1.367   \u001b[0m | \u001b[0m 1.548   \u001b[0m | \u001b[0m 0.3924  \u001b[0m | \u001b[0m 71.67   \u001b[0m | \u001b[0m 0.9805  \u001b[0m | \u001b[0m 2.123   \u001b[0m |\n",
      "| \u001b[0m 13      \u001b[0m | \u001b[0m 0.4271  \u001b[0m | \u001b[0m 7.522   \u001b[0m | \u001b[0m 797.3   \u001b[0m | \u001b[0m 0.4183  \u001b[0m | \u001b[0m 0.01789 \u001b[0m | \u001b[0m 43.78   \u001b[0m | \u001b[0m 2.564   \u001b[0m | \u001b[0m 2.277   \u001b[0m | \u001b[0m 0.4169  \u001b[0m | \u001b[0m 11.5    \u001b[0m | \u001b[0m 0.6415  \u001b[0m | \u001b[0m 6.399   \u001b[0m |\n",
      "| \u001b[0m 14      \u001b[0m | \u001b[0m 0.5958  \u001b[0m | \u001b[0m 1.575   \u001b[0m | \u001b[0m 848.4   \u001b[0m | \u001b[0m 0.4721  \u001b[0m | \u001b[0m 0.1835  \u001b[0m | \u001b[0m 48.22   \u001b[0m | \u001b[0m 2.412   \u001b[0m | \u001b[0m 1.802   \u001b[0m | \u001b[0m 0.7189  \u001b[0m | \u001b[0m 12.16   \u001b[0m | \u001b[0m 0.2931  \u001b[0m | \u001b[0m 5.978   \u001b[0m |\n",
      "| \u001b[0m 15      \u001b[0m | \u001b[0m 0.6888  \u001b[0m | \u001b[0m 3.203   \u001b[0m | \u001b[0m 508.4   \u001b[0m | \u001b[0m 0.5615  \u001b[0m | \u001b[0m 0.1666  \u001b[0m | \u001b[0m 64.59   \u001b[0m | \u001b[0m 1.52    \u001b[0m | \u001b[0m 1.259   \u001b[0m | \u001b[0m 0.5128  \u001b[0m | \u001b[0m 48.19   \u001b[0m | \u001b[0m 0.4325  \u001b[0m | \u001b[0m 4.065   \u001b[0m |\n",
      "| \u001b[0m 16      \u001b[0m | \u001b[0m 0.6608  \u001b[0m | \u001b[0m 6.193   \u001b[0m | \u001b[0m 279.4   \u001b[0m | \u001b[0m 0.5161  \u001b[0m | \u001b[0m 0.2998  \u001b[0m | \u001b[0m 92.17   \u001b[0m | \u001b[0m 1.851   \u001b[0m | \u001b[0m 1.687   \u001b[0m | \u001b[0m 0.3455  \u001b[0m | \u001b[0m 26.72   \u001b[0m | \u001b[0m 0.9702  \u001b[0m | \u001b[0m 4.235   \u001b[0m |\n",
      "| \u001b[0m 17      \u001b[0m | \u001b[0m 0.494   \u001b[0m | \u001b[0m 4.623   \u001b[0m | \u001b[0m 187.3   \u001b[0m | \u001b[0m 0.8304  \u001b[0m | \u001b[0m 0.03817 \u001b[0m | \u001b[0m 96.98   \u001b[0m | \u001b[0m 1.453   \u001b[0m | \u001b[0m 2.447   \u001b[0m | \u001b[0m 0.4287  \u001b[0m | \u001b[0m 73.43   \u001b[0m | \u001b[0m 0.7877  \u001b[0m | \u001b[0m 1.986   \u001b[0m |\n",
      "| \u001b[0m 18      \u001b[0m | \u001b[0m 0.5958  \u001b[0m | \u001b[0m 7.459   \u001b[0m | \u001b[0m 21.11   \u001b[0m | \u001b[0m 0.863   \u001b[0m | \u001b[0m 0.1036  \u001b[0m | \u001b[0m 57.74   \u001b[0m | \u001b[0m 1.381   \u001b[0m | \u001b[0m 1.541   \u001b[0m | \u001b[0m 0.6697  \u001b[0m | \u001b[0m 34.5    \u001b[0m | \u001b[0m 0.8577  \u001b[0m | \u001b[0m 5.257   \u001b[0m |\n",
      "| \u001b[0m 19      \u001b[0m | \u001b[0m 0.5045  \u001b[0m | \u001b[0m 6.448   \u001b[0m | \u001b[0m 626.7   \u001b[0m | \u001b[0m 0.03592 \u001b[0m | \u001b[0m 0.2653  \u001b[0m | \u001b[0m 26.85   \u001b[0m | \u001b[0m 2.112   \u001b[0m | \u001b[0m 2.208   \u001b[0m | \u001b[0m 0.7128  \u001b[0m | \u001b[0m 16.84   \u001b[0m | \u001b[0m 0.14    \u001b[0m | \u001b[0m 5.06    \u001b[0m |\n",
      "| \u001b[0m 20      \u001b[0m | \u001b[0m 0.5607  \u001b[0m | \u001b[0m 7.797   \u001b[0m | \u001b[0m 720.9   \u001b[0m | \u001b[0m 0.7515  \u001b[0m | \u001b[0m 0.06411 \u001b[0m | \u001b[0m 77.72   \u001b[0m | \u001b[0m 2.035   \u001b[0m | \u001b[0m 2.72    \u001b[0m | \u001b[0m 0.8456  \u001b[0m | \u001b[0m 69.19   \u001b[0m | \u001b[0m 0.8675  \u001b[0m | \u001b[0m 2.488   \u001b[0m |\n",
      "| \u001b[0m 21      \u001b[0m | \u001b[0m 0.5958  \u001b[0m | \u001b[0m 7.372   \u001b[0m | \u001b[0m 180.1   \u001b[0m | \u001b[0m 0.4988  \u001b[0m | \u001b[0m 0.1296  \u001b[0m | \u001b[0m 69.91   \u001b[0m | \u001b[0m 2.164   \u001b[0m | \u001b[0m 1.101   \u001b[0m | \u001b[0m 0.3182  \u001b[0m | \u001b[0m 65.04   \u001b[0m | \u001b[0m 0.5258  \u001b[0m | \u001b[0m 5.341   \u001b[0m |\n",
      "| \u001b[0m 22      \u001b[0m | \u001b[0m 0.5958  \u001b[0m | \u001b[0m 8.531   \u001b[0m | \u001b[0m 517.0   \u001b[0m | \u001b[0m 0.8168  \u001b[0m | \u001b[0m 0.02318 \u001b[0m | \u001b[0m 95.4    \u001b[0m | \u001b[0m 2.562   \u001b[0m | \u001b[0m 2.549   \u001b[0m | \u001b[0m 0.8781  \u001b[0m | \u001b[0m 10.35   \u001b[0m | \u001b[0m 0.5535  \u001b[0m | \u001b[0m 6.847   \u001b[0m |\n",
      "| \u001b[0m 23      \u001b[0m | \u001b[0m 0.48    \u001b[0m | \u001b[0m 5.655   \u001b[0m | \u001b[0m 13.45   \u001b[0m | \u001b[0m 0.2233  \u001b[0m | \u001b[0m 0.2698  \u001b[0m | \u001b[0m 37.68   \u001b[0m | \u001b[0m 1.875   \u001b[0m | \u001b[0m 2.936   \u001b[0m | \u001b[0m 0.9694  \u001b[0m | \u001b[0m 9.463   \u001b[0m | \u001b[0m 0.4732  \u001b[0m | \u001b[0m 1.316   \u001b[0m |\n",
      "| \u001b[95m 24      \u001b[0m | \u001b[95m 0.7768  \u001b[0m | \u001b[95m 4.606   \u001b[0m | \u001b[95m 82.7    \u001b[0m | \u001b[95m 0.693   \u001b[0m | \u001b[95m 0.007371\u001b[0m | \u001b[95m 73.84   \u001b[0m | \u001b[95m 1.479   \u001b[0m | \u001b[95m 1.339   \u001b[0m | \u001b[95m 0.5958  \u001b[0m | \u001b[95m 40.84   \u001b[0m | \u001b[95m 0.5381  \u001b[0m | \u001b[95m 3.348   \u001b[0m |\n",
      "| \u001b[0m 25      \u001b[0m | \u001b[0m 0.5486  \u001b[0m | \u001b[0m 8.298   \u001b[0m | \u001b[0m 365.9   \u001b[0m | \u001b[0m 0.6956  \u001b[0m | \u001b[0m 0.05014 \u001b[0m | \u001b[0m 86.66   \u001b[0m | \u001b[0m 1.809   \u001b[0m | \u001b[0m 2.035   \u001b[0m | \u001b[0m 0.4907  \u001b[0m | \u001b[0m 68.12   \u001b[0m | \u001b[0m 0.368   \u001b[0m | \u001b[0m 5.476   \u001b[0m |\n"
     ]
    }
   ],
   "source": [
    "neuralnetworks_parameters2 ={\n",
    "    'neurons': (5, 100),\n",
    "    'activation':(0, 9),\n",
    "    'optimizer':(0,7),\n",
    "    'learning_rate':(0.01, 1),\n",
    "    'batch_size':(10, 1000),\n",
    "    'epochs':(10, 100),\n",
    "    'layers1':(1,3),\n",
    "    'layers2':(1,3),\n",
    "    'normalization':(0,1),\n",
    "    'dropout':(0,1),\n",
    "    'dropout_rate':(0,0.3)\n",
    "}\n",
    "# Run Bayesian Optimization\n",
    "try:\n",
    "    nn_bo = BayesianOptimization(layer_func, neuralnetworks_parameters2, random_state=150)\n",
    "    nn_bo.maximize(init_points=25, n_iter=4)\n",
    "except TypeError:\n",
    "    pass"
   ]
  },
  {
   "cell_type": "code",
   "execution_count": 9,
   "metadata": {},
   "outputs": [
    {
     "data": {
      "text/plain": [
       "{'activation': 'selu',\n",
       " 'batch_size': 83,\n",
       " 'dropout': 0.6929563333529957,\n",
       " 'dropout_rate': 0.007370607090950998,\n",
       " 'epochs': 74,\n",
       " 'layers1': 1,\n",
       " 'layers2': 1,\n",
       " 'learning_rate': 0.5957953766857114,\n",
       " 'neurons': 41,\n",
       " 'normalization': 0.5381201763172544,\n",
       " 'optimizer': <keras.optimizer_v2.adadelta.Adadelta at 0x26ebc2f24f0>}"
      ]
     },
     "execution_count": 9,
     "metadata": {},
     "output_type": "execute_result"
    }
   ],
   "source": [
    "neuralnetworks_parameters_ = nn_bo.max['params']\n",
    "learning_rate = neuralnetworks_parameters_['learning_rate']\n",
    "activationL = ['relu', 'sigmoid', 'softplus', 'softsign', 'tanh', 'selu',\n",
    "               'elu', 'exponential', LeakyReLU,'relu']\n",
    "neuralnetworks_parameters_['activation'] = activationL[round(neuralnetworks_parameters_['activation'])]\n",
    "neuralnetworks_parameters_['batch_size'] = round(neuralnetworks_parameters_['batch_size'])\n",
    "neuralnetworks_parameters_['epochs'] = round(neuralnetworks_parameters_['epochs'])\n",
    "neuralnetworks_parameters_['layers1'] = round(neuralnetworks_parameters_['layers1'])\n",
    "neuralnetworks_parameters_['layers2'] = round(neuralnetworks_parameters_['layers2'])\n",
    "neuralnetworks_parameters_['neurons'] = round(neuralnetworks_parameters_['neurons'])\n",
    "optimizerL = ['Adam', 'SGD', 'RMSprop', 'Adadelta', 'Adagrad', 'Adamax', 'Nadam', 'Ftrl','Adam']\n",
    "optimizerD= {'Adam':Adam(lr=learning_rate), 'SGD':SGD(lr=learning_rate),\n",
    "             'RMSprop':RMSprop(lr=learning_rate), 'Adadelta':Adadelta(lr=learning_rate),\n",
    "             'Adagrad':Adagrad(lr=learning_rate), 'Adamax':Adamax(lr=learning_rate),\n",
    "             'Nadam':Nadam(lr=learning_rate), 'Ftrl':Ftrl(lr=learning_rate)}\n",
    "neuralnetworks_parameters_['optimizer'] = optimizerD[optimizerL[round(neuralnetworks_parameters_['optimizer'])]]\n",
    "neuralnetworks_parameters_"
   ]
  },
  {
   "cell_type": "code",
   "execution_count": 10,
   "metadata": {},
   "outputs": [
    {
     "name": "stdout",
     "output_type": "stream",
     "text": [
      "Epoch 1/74\n",
      "7/7 [==============================] - 2s 67ms/step - loss: 0.7571 - accuracy: 0.4780 - val_loss: 0.7539 - val_accuracy: 0.4476\n",
      "Epoch 2/74\n",
      "7/7 [==============================] - 0s 11ms/step - loss: 0.6269 - accuracy: 0.6784 - val_loss: 0.6288 - val_accuracy: 0.6294\n",
      "Epoch 3/74\n",
      "7/7 [==============================] - 0s 11ms/step - loss: 0.6066 - accuracy: 0.6731 - val_loss: 0.6263 - val_accuracy: 0.6713\n",
      "Epoch 4/74\n",
      "7/7 [==============================] - 0s 11ms/step - loss: 0.5984 - accuracy: 0.6977 - val_loss: 0.6303 - val_accuracy: 0.6503\n",
      "Epoch 5/74\n",
      "7/7 [==============================] - 0s 11ms/step - loss: 0.5835 - accuracy: 0.7170 - val_loss: 0.6333 - val_accuracy: 0.6503\n",
      "Epoch 6/74\n",
      "7/7 [==============================] - 0s 14ms/step - loss: 0.5654 - accuracy: 0.7206 - val_loss: 0.6503 - val_accuracy: 0.6434\n",
      "Epoch 7/74\n",
      "7/7 [==============================] - 0s 11ms/step - loss: 0.5534 - accuracy: 0.7276 - val_loss: 0.7250 - val_accuracy: 0.6014\n",
      "Epoch 8/74\n",
      "7/7 [==============================] - 0s 11ms/step - loss: 0.5153 - accuracy: 0.7592 - val_loss: 0.7033 - val_accuracy: 0.6294\n",
      "Epoch 9/74\n",
      "7/7 [==============================] - 0s 11ms/step - loss: 0.4952 - accuracy: 0.7944 - val_loss: 0.6740 - val_accuracy: 0.6643\n",
      "Epoch 10/74\n",
      "7/7 [==============================] - 0s 13ms/step - loss: 0.4884 - accuracy: 0.7750 - val_loss: 0.7201 - val_accuracy: 0.6643\n",
      "Epoch 11/74\n",
      "7/7 [==============================] - 0s 11ms/step - loss: 0.4674 - accuracy: 0.7768 - val_loss: 0.8508 - val_accuracy: 0.5944\n",
      "Epoch 12/74\n",
      "7/7 [==============================] - 0s 11ms/step - loss: 0.4707 - accuracy: 0.7926 - val_loss: 0.7188 - val_accuracy: 0.6503\n",
      "Epoch 13/74\n",
      "7/7 [==============================] - 0s 11ms/step - loss: 0.4703 - accuracy: 0.7873 - val_loss: 0.7564 - val_accuracy: 0.6434\n",
      "Epoch 14/74\n",
      "7/7 [==============================] - 0s 11ms/step - loss: 0.4670 - accuracy: 0.7961 - val_loss: 0.6775 - val_accuracy: 0.6713\n",
      "Epoch 15/74\n",
      "7/7 [==============================] - 0s 11ms/step - loss: 0.4810 - accuracy: 0.7750 - val_loss: 0.7654 - val_accuracy: 0.6503\n",
      "Epoch 16/74\n",
      "7/7 [==============================] - 0s 10ms/step - loss: 0.4660 - accuracy: 0.7909 - val_loss: 0.8582 - val_accuracy: 0.6154\n",
      "Epoch 17/74\n",
      "7/7 [==============================] - 0s 11ms/step - loss: 0.4594 - accuracy: 0.8067 - val_loss: 0.8975 - val_accuracy: 0.6014\n",
      "Epoch 18/74\n",
      "7/7 [==============================] - 0s 11ms/step - loss: 0.4691 - accuracy: 0.7909 - val_loss: 0.8392 - val_accuracy: 0.6154\n",
      "Epoch 19/74\n",
      "7/7 [==============================] - 0s 12ms/step - loss: 0.4543 - accuracy: 0.7891 - val_loss: 0.8122 - val_accuracy: 0.6224\n",
      "Epoch 20/74\n",
      "7/7 [==============================] - 0s 24ms/step - loss: 0.4383 - accuracy: 0.7979 - val_loss: 0.8049 - val_accuracy: 0.6014\n",
      "Epoch 21/74\n",
      "7/7 [==============================] - 0s 14ms/step - loss: 0.4454 - accuracy: 0.7891 - val_loss: 0.8045 - val_accuracy: 0.6294\n",
      "Epoch 22/74\n",
      "7/7 [==============================] - 0s 17ms/step - loss: 0.4470 - accuracy: 0.7961 - val_loss: 0.8099 - val_accuracy: 0.6294\n",
      "Epoch 23/74\n",
      "7/7 [==============================] - 0s 16ms/step - loss: 0.4302 - accuracy: 0.8120 - val_loss: 0.6797 - val_accuracy: 0.6993\n",
      "Epoch 24/74\n",
      "7/7 [==============================] - 0s 15ms/step - loss: 0.4369 - accuracy: 0.8120 - val_loss: 0.7908 - val_accuracy: 0.6503\n",
      "Epoch 25/74\n",
      "7/7 [==============================] - 0s 18ms/step - loss: 0.4605 - accuracy: 0.7873 - val_loss: 0.7658 - val_accuracy: 0.6434\n",
      "Epoch 26/74\n",
      "7/7 [==============================] - 0s 19ms/step - loss: 0.4143 - accuracy: 0.8243 - val_loss: 0.6663 - val_accuracy: 0.7203\n",
      "Epoch 27/74\n",
      "7/7 [==============================] - 0s 20ms/step - loss: 0.4352 - accuracy: 0.7979 - val_loss: 0.6320 - val_accuracy: 0.7273\n",
      "Epoch 28/74\n",
      "7/7 [==============================] - 0s 20ms/step - loss: 0.4235 - accuracy: 0.7996 - val_loss: 0.6054 - val_accuracy: 0.7273\n",
      "Epoch 29/74\n",
      "7/7 [==============================] - 0s 20ms/step - loss: 0.4250 - accuracy: 0.8102 - val_loss: 0.7466 - val_accuracy: 0.6084\n",
      "Epoch 30/74\n",
      "7/7 [==============================] - 0s 19ms/step - loss: 0.4282 - accuracy: 0.8137 - val_loss: 0.7501 - val_accuracy: 0.6084\n",
      "Epoch 31/74\n",
      "7/7 [==============================] - 0s 19ms/step - loss: 0.4411 - accuracy: 0.8243 - val_loss: 0.7092 - val_accuracy: 0.6923\n",
      "Epoch 32/74\n",
      "7/7 [==============================] - 0s 15ms/step - loss: 0.4091 - accuracy: 0.8225 - val_loss: 0.6660 - val_accuracy: 0.7343\n",
      "Epoch 33/74\n",
      "7/7 [==============================] - 0s 13ms/step - loss: 0.4367 - accuracy: 0.8032 - val_loss: 0.6911 - val_accuracy: 0.6783\n",
      "Epoch 34/74\n",
      "7/7 [==============================] - 0s 11ms/step - loss: 0.4218 - accuracy: 0.8155 - val_loss: 0.6899 - val_accuracy: 0.6923\n",
      "Epoch 35/74\n",
      "7/7 [==============================] - 0s 13ms/step - loss: 0.4137 - accuracy: 0.8172 - val_loss: 0.5933 - val_accuracy: 0.7413\n",
      "Epoch 36/74\n",
      "7/7 [==============================] - 0s 13ms/step - loss: 0.4155 - accuracy: 0.8207 - val_loss: 0.6209 - val_accuracy: 0.7273\n",
      "Epoch 37/74\n",
      "7/7 [==============================] - 0s 13ms/step - loss: 0.4144 - accuracy: 0.8067 - val_loss: 0.5961 - val_accuracy: 0.7413\n",
      "Epoch 38/74\n",
      "7/7 [==============================] - 0s 12ms/step - loss: 0.4038 - accuracy: 0.8260 - val_loss: 0.5313 - val_accuracy: 0.7552\n",
      "Epoch 39/74\n",
      "7/7 [==============================] - 0s 12ms/step - loss: 0.4113 - accuracy: 0.8084 - val_loss: 0.6864 - val_accuracy: 0.6573\n",
      "Epoch 40/74\n",
      "7/7 [==============================] - 0s 12ms/step - loss: 0.4131 - accuracy: 0.8260 - val_loss: 0.5228 - val_accuracy: 0.7692\n",
      "Epoch 41/74\n",
      "7/7 [==============================] - 0s 14ms/step - loss: 0.4071 - accuracy: 0.8102 - val_loss: 0.5190 - val_accuracy: 0.7762\n",
      "Epoch 42/74\n",
      "7/7 [==============================] - 0s 11ms/step - loss: 0.4005 - accuracy: 0.8313 - val_loss: 0.6269 - val_accuracy: 0.6993\n",
      "Epoch 43/74\n",
      "7/7 [==============================] - 0s 12ms/step - loss: 0.4057 - accuracy: 0.8207 - val_loss: 0.5821 - val_accuracy: 0.7552\n",
      "Epoch 44/74\n",
      "7/7 [==============================] - 0s 16ms/step - loss: 0.4260 - accuracy: 0.8155 - val_loss: 0.5635 - val_accuracy: 0.7483\n",
      "Epoch 45/74\n",
      "7/7 [==============================] - 0s 11ms/step - loss: 0.4137 - accuracy: 0.8084 - val_loss: 0.5329 - val_accuracy: 0.7692\n",
      "Epoch 46/74\n",
      "7/7 [==============================] - 0s 10ms/step - loss: 0.4129 - accuracy: 0.8067 - val_loss: 0.5840 - val_accuracy: 0.7413\n",
      "Epoch 47/74\n",
      "7/7 [==============================] - 0s 13ms/step - loss: 0.4089 - accuracy: 0.8049 - val_loss: 0.5318 - val_accuracy: 0.7622\n",
      "Epoch 48/74\n",
      "7/7 [==============================] - 0s 15ms/step - loss: 0.4204 - accuracy: 0.8067 - val_loss: 0.5166 - val_accuracy: 0.7902\n",
      "Epoch 49/74\n",
      "7/7 [==============================] - 0s 15ms/step - loss: 0.4030 - accuracy: 0.8260 - val_loss: 0.4771 - val_accuracy: 0.7832\n",
      "Epoch 50/74\n",
      "7/7 [==============================] - 0s 13ms/step - loss: 0.4097 - accuracy: 0.8155 - val_loss: 0.4821 - val_accuracy: 0.7832\n",
      "Epoch 51/74\n",
      "7/7 [==============================] - 0s 12ms/step - loss: 0.4071 - accuracy: 0.8067 - val_loss: 0.5077 - val_accuracy: 0.7692\n",
      "Epoch 52/74\n",
      "7/7 [==============================] - 0s 14ms/step - loss: 0.4029 - accuracy: 0.8172 - val_loss: 0.4638 - val_accuracy: 0.7762\n",
      "Epoch 53/74\n",
      "7/7 [==============================] - 0s 17ms/step - loss: 0.3933 - accuracy: 0.8190 - val_loss: 0.5038 - val_accuracy: 0.7832\n",
      "Epoch 54/74\n",
      "7/7 [==============================] - 0s 22ms/step - loss: 0.4015 - accuracy: 0.8225 - val_loss: 0.4599 - val_accuracy: 0.7762\n",
      "Epoch 55/74\n",
      "7/7 [==============================] - 0s 16ms/step - loss: 0.4096 - accuracy: 0.8155 - val_loss: 0.4589 - val_accuracy: 0.7902\n",
      "Epoch 56/74\n",
      "7/7 [==============================] - 0s 15ms/step - loss: 0.3963 - accuracy: 0.8207 - val_loss: 0.4512 - val_accuracy: 0.7902\n",
      "Epoch 57/74\n",
      "7/7 [==============================] - 0s 11ms/step - loss: 0.3861 - accuracy: 0.8348 - val_loss: 0.4551 - val_accuracy: 0.8042\n",
      "Epoch 58/74\n",
      "7/7 [==============================] - 0s 12ms/step - loss: 0.3858 - accuracy: 0.8278 - val_loss: 0.4523 - val_accuracy: 0.7972\n",
      "Epoch 59/74\n"
     ]
    },
    {
     "name": "stdout",
     "output_type": "stream",
     "text": [
      "7/7 [==============================] - 0s 12ms/step - loss: 0.4014 - accuracy: 0.8102 - val_loss: 0.4769 - val_accuracy: 0.7902\n",
      "Epoch 60/74\n",
      "7/7 [==============================] - 0s 12ms/step - loss: 0.3942 - accuracy: 0.8260 - val_loss: 0.5026 - val_accuracy: 0.7622\n",
      "Epoch 61/74\n",
      "7/7 [==============================] - 0s 15ms/step - loss: 0.3967 - accuracy: 0.8172 - val_loss: 0.4894 - val_accuracy: 0.7902\n",
      "Epoch 62/74\n",
      "7/7 [==============================] - 0s 15ms/step - loss: 0.4026 - accuracy: 0.8120 - val_loss: 0.4704 - val_accuracy: 0.7622\n",
      "Epoch 63/74\n",
      "7/7 [==============================] - 0s 12ms/step - loss: 0.4071 - accuracy: 0.8190 - val_loss: 0.5028 - val_accuracy: 0.7832\n",
      "Epoch 64/74\n",
      "7/7 [==============================] - 0s 12ms/step - loss: 0.4024 - accuracy: 0.8207 - val_loss: 0.4601 - val_accuracy: 0.7902\n",
      "Epoch 65/74\n",
      "7/7 [==============================] - 0s 12ms/step - loss: 0.3975 - accuracy: 0.8383 - val_loss: 0.4609 - val_accuracy: 0.7902\n",
      "Epoch 66/74\n",
      "7/7 [==============================] - 0s 16ms/step - loss: 0.3997 - accuracy: 0.8120 - val_loss: 0.4491 - val_accuracy: 0.7972\n",
      "Epoch 67/74\n",
      "7/7 [==============================] - 0s 17ms/step - loss: 0.4054 - accuracy: 0.8155 - val_loss: 0.4637 - val_accuracy: 0.7692\n",
      "Epoch 68/74\n",
      "7/7 [==============================] - 0s 18ms/step - loss: 0.3895 - accuracy: 0.8225 - val_loss: 0.4517 - val_accuracy: 0.7972\n",
      "Epoch 69/74\n",
      "7/7 [==============================] - 0s 12ms/step - loss: 0.3965 - accuracy: 0.8295 - val_loss: 0.4658 - val_accuracy: 0.8112\n",
      "Epoch 70/74\n",
      "7/7 [==============================] - 0s 12ms/step - loss: 0.3845 - accuracy: 0.8207 - val_loss: 0.4588 - val_accuracy: 0.7902\n",
      "Epoch 71/74\n",
      "7/7 [==============================] - 0s 14ms/step - loss: 0.3978 - accuracy: 0.8102 - val_loss: 0.4503 - val_accuracy: 0.7902\n",
      "Epoch 72/74\n",
      "7/7 [==============================] - 0s 13ms/step - loss: 0.3909 - accuracy: 0.8278 - val_loss: 0.4466 - val_accuracy: 0.8042\n",
      "Epoch 73/74\n",
      "7/7 [==============================] - 0s 14ms/step - loss: 0.3943 - accuracy: 0.8190 - val_loss: 0.4514 - val_accuracy: 0.7762\n",
      "Epoch 74/74\n",
      "7/7 [==============================] - 0s 15ms/step - loss: 0.3845 - accuracy: 0.8313 - val_loss: 0.4482 - val_accuracy: 0.8112\n"
     ]
    }
   ],
   "source": [
    "# Fitting Neural Network\n",
    "def nn_func():\n",
    "    nn = Sequential()\n",
    "    nn.add(Dense(neuralnetworks_parameters_['neurons'], input_dim=10, activation=neuralnetworks_parameters_['activation']))\n",
    "    if neuralnetworks_parameters_['normalization'] > 0.5:\n",
    "        nn.add(BatchNormalization())\n",
    "    for i in range(neuralnetworks_parameters_['layers1']):\n",
    "        nn.add(Dense(neuralnetworks_parameters_['neurons'], activation=neuralnetworks_parameters_['activation']))\n",
    "    if neuralnetworks_parameters_['dropout'] > 0.5:\n",
    "        nn.add(Dropout(neuralnetworks_parameters_['dropout_rate'], seed=123))\n",
    "    for i in range(neuralnetworks_parameters_['layers2']):\n",
    "        nn.add(Dense(neuralnetworks_parameters_['neurons'], activation=neuralnetworks_parameters_['activation']))\n",
    "    nn.add(Dense(1, activation='sigmoid'))\n",
    "    nn.compile(loss='binary_crossentropy', optimizer=neuralnetworks_parameters_['optimizer'], metrics=['accuracy'])\n",
    "    return nn\n",
    "        \n",
    "Early_stopping = EarlyStopping(monitor='accuracy', mode='max', verbose=0, patience=20)\n",
    "nn = KerasClassifier(build_fn=nn_func, epochs=neuralnetworks_parameters_['epochs'], batch_size=neuralnetworks_parameters_['batch_size'],\n",
    "                         verbose=0)\n",
    " \n",
    "history=nn.fit(X_train, y_train, validation_data=(X_val, y_val), verbose=1)\n",
    "acc = history.history['accuracy']\n",
    "val_acc = history.history['val_accuracy']\n",
    "loss = history.history['loss']\n",
    "val_loss = history.history['val_loss']\n",
    "epochs=neuralnetworks_parameters_['epochs']\n",
    "epochs_range = range(epochs)"
   ]
  },
  {
   "cell_type": "code",
   "execution_count": 11,
   "metadata": {},
   "outputs": [
    {
     "name": "stdout",
     "output_type": "stream",
     "text": [
      "Training Accuracy : 0.831283 \n",
      "Validation Accuracy : 0.811189 \n"
     ]
    },
    {
     "data": {
      "image/png": "[encoded data removed]",
      "text/plain": [
       "<Figure size 576x576 with 1 Axes>"
      ]
     },
     "metadata": {
      "needs_background": "light"
     },
     "output_type": "display_data"
    }
   ],
   "source": [
    "print(\"Training Accuracy : %f \"% acc[-1])\n",
    "print(\"Validation Accuracy : %f \"% val_acc[-1])\n",
    "plt.figure(figsize=(8, 8))\n",
    "plt.plot(epochs_range, acc, label='Training Accuracy')\n",
    "plt.plot(epochs_range, val_acc, label='Validation Accuracy')\n",
    "plt.legend(loc='lower right')\n",
    "plt.title('Training and Validation Accuracy')\n",
    "plt.plot(epochs_range, loss, label='Training Loss')\n",
    "plt.plot(epochs_range, val_loss, label='Validation Loss')\n",
    "plt.legend(loc='upper right')\n",
    "plt.title('Training and Validation Loss')\n",
    "plt.show()"
   ]
  },
  {
   "cell_type": "markdown",
   "metadata": {},
   "source": [
    "# Manually Tuned Neural Network"
   ]
  },
  {
   "cell_type": "code",
   "execution_count": 12,
   "metadata": {},
   "outputs": [
    {
     "name": "stdout",
     "output_type": "stream",
     "text": [
      "Model: \"sequential_251\"\n",
      "_________________________________________________________________\n",
      " Layer (type)                Output Shape              Param #   \n",
      "=================================================================\n",
      " dense_1114 (Dense)          (None, 12)                132       \n",
      "                                                                 \n",
      " dropout_56 (Dropout)        (None, 12)                0         \n",
      "                                                                 \n",
      " dense_1115 (Dense)          (None, 5)                 65        \n",
      "                                                                 \n",
      " dropout_57 (Dropout)        (None, 5)                 0         \n",
      "                                                                 \n",
      " dense_1116 (Dense)          (None, 1)                 6         \n",
      "                                                                 \n",
      "=================================================================\n",
      "Total params: 203\n",
      "Trainable params: 203\n",
      "Non-trainable params: 0\n",
      "_________________________________________________________________\n",
      "Epoch 1/20\n",
      "29/29 [==============================] - 1s 13ms/step - loss: 5.0674 - accuracy: 0.4077 - val_loss: 4.3016 - val_accuracy: 0.3636\n",
      "Epoch 2/20\n",
      "29/29 [==============================] - 0s 5ms/step - loss: 4.3776 - accuracy: 0.3919 - val_loss: 3.1910 - val_accuracy: 0.3636\n",
      "Epoch 3/20\n",
      "29/29 [==============================] - 0s 5ms/step - loss: 3.1469 - accuracy: 0.4253 - val_loss: 2.3034 - val_accuracy: 0.3776\n",
      "Epoch 4/20\n",
      "29/29 [==============================] - 0s 5ms/step - loss: 2.3789 - accuracy: 0.4288 - val_loss: 1.7090 - val_accuracy: 0.3916\n",
      "Epoch 5/20\n",
      "29/29 [==============================] - 0s 6ms/step - loss: 1.9493 - accuracy: 0.4306 - val_loss: 1.3102 - val_accuracy: 0.3636\n",
      "Epoch 6/20\n",
      "29/29 [==============================] - 0s 8ms/step - loss: 1.6969 - accuracy: 0.4552 - val_loss: 1.0582 - val_accuracy: 0.3776\n",
      "Epoch 7/20\n",
      "29/29 [==============================] - 0s 7ms/step - loss: 1.3241 - accuracy: 0.4622 - val_loss: 0.8970 - val_accuracy: 0.3986\n",
      "Epoch 8/20\n",
      "29/29 [==============================] - 0s 5ms/step - loss: 1.0090 - accuracy: 0.4745 - val_loss: 0.7978 - val_accuracy: 0.4266\n",
      "Epoch 9/20\n",
      "29/29 [==============================] - 0s 8ms/step - loss: 0.8762 - accuracy: 0.5026 - val_loss: 0.7349 - val_accuracy: 0.4685\n",
      "Epoch 10/20\n",
      "29/29 [==============================] - 0s 7ms/step - loss: 0.8141 - accuracy: 0.5272 - val_loss: 0.6930 - val_accuracy: 0.5245\n",
      "Epoch 11/20\n",
      "29/29 [==============================] - 0s 6ms/step - loss: 0.8177 - accuracy: 0.5694 - val_loss: 0.6777 - val_accuracy: 0.5594\n",
      "Epoch 12/20\n",
      "29/29 [==============================] - 0s 8ms/step - loss: 0.7866 - accuracy: 0.5677 - val_loss: 0.6694 - val_accuracy: 0.6084\n",
      "Epoch 13/20\n",
      "29/29 [==============================] - 0s 9ms/step - loss: 0.7241 - accuracy: 0.5764 - val_loss: 0.6673 - val_accuracy: 0.6224\n",
      "Epoch 14/20\n",
      "29/29 [==============================] - 0s 8ms/step - loss: 0.7066 - accuracy: 0.5782 - val_loss: 0.6619 - val_accuracy: 0.6224\n",
      "Epoch 15/20\n",
      "29/29 [==============================] - 0s 7ms/step - loss: 0.6835 - accuracy: 0.5888 - val_loss: 0.6541 - val_accuracy: 0.6294\n",
      "Epoch 16/20\n",
      "29/29 [==============================] - 0s 5ms/step - loss: 0.7702 - accuracy: 0.5905 - val_loss: 0.6583 - val_accuracy: 0.6224\n",
      "Epoch 17/20\n",
      "29/29 [==============================] - 0s 5ms/step - loss: 0.7333 - accuracy: 0.5905 - val_loss: 0.6509 - val_accuracy: 0.6224\n",
      "Epoch 18/20\n",
      "29/29 [==============================] - 0s 7ms/step - loss: 0.7124 - accuracy: 0.6028 - val_loss: 0.6468 - val_accuracy: 0.6224\n",
      "Epoch 19/20\n",
      "29/29 [==============================] - 0s 6ms/step - loss: 0.7305 - accuracy: 0.5923 - val_loss: 0.6431 - val_accuracy: 0.6294\n",
      "Epoch 20/20\n",
      "29/29 [==============================] - 0s 5ms/step - loss: 0.7044 - accuracy: 0.5993 - val_loss: 0.6407 - val_accuracy: 0.6224\n",
      "Test loss: 0.6407181620597839\n",
      "Test accuracy: 0.6223776340484619\n"
     ]
    }
   ],
   "source": [
    "model = Sequential()\n",
    "model.add(Dense(units=12, activation='relu', input_shape=(10,)))\n",
    "model.add(Dropout(0.2))\n",
    "model.add(Dense(units=5, activation='relu'))\n",
    "model.add(Dropout(0.2))\n",
    "model.add(Dense(1, activation='sigmoid'))\n",
    "model.summary()\n",
    "model.compile(loss='binary_crossentropy',\n",
    " optimizer='adam',\n",
    " metrics=['accuracy'])\n",
    "history = model.fit(X_train, y_train,\n",
    " batch_size=20,\n",
    " epochs=20,\n",
    " verbose=1,\n",
    " validation_data=(X_val, y_val))\n",
    "score = model.evaluate(X_val, y_val, verbose=0)\n",
    "print('Test loss:', score[0])\n",
    "print('Test accuracy:', score[1])\n",
    "acc1 = history.history['accuracy']\n",
    "val_acc1 = history.history['val_accuracy']\n",
    "loss = history.history['loss']\n",
    "val_loss = history.history['val_loss']\n",
    "epochs=20\n",
    "epochs_range = range(epochs)"
   ]
  },
  {
   "cell_type": "code",
   "execution_count": 13,
   "metadata": {},
   "outputs": [
    {
     "name": "stdout",
     "output_type": "stream",
     "text": [
      "Test loss: 0.6407181620597839\n",
      "Test accuracy: 0.6223776340484619\n"
     ]
    },
    {
     "data": {
      "image/png": "[encoded data removed]",
      "text/plain": [
       "<Figure size 576x576 with 1 Axes>"
      ]
     },
     "metadata": {
      "needs_background": "light"
     },
     "output_type": "display_data"
    }
   ],
   "source": [
    "print('Test loss:', score[0])\n",
    "print('Test accuracy:', score[1])\n",
    "plt.figure(figsize=(8, 8))\n",
    "plt.plot(epochs_range, acc1, label='Training Accuracy')\n",
    "plt.plot(epochs_range, val_acc1, label='Validation Accuracy')\n",
    "plt.legend(loc='lower right')\n",
    "plt.title('Training and Validation Accuracy')\n",
    "plt.plot(epochs_range, loss, label='Training Loss')\n",
    "plt.plot(epochs_range, val_loss, label='Validation Loss')\n",
    "plt.legend(loc='upper right')\n",
    "plt.title('Training and Validation Loss')\n",
    "#plt.savefig(\"water_quality_nn.pdf\", dpi=100)\n",
    "plt.show()"
   ]
  },
  {
   "cell_type": "markdown",
   "metadata": {},
   "source": [
    "# Decision Tree Classifier"
   ]
  },
  {
   "cell_type": "code",
   "execution_count": 14,
   "metadata": {},
   "outputs": [],
   "source": [
    "from sklearn import tree\n",
    "from sklearn.metrics import accuracy_score\n",
    "#https://www.datacamp.com/community/tutorials/naive-bayes-scikit-learn"
   ]
  },
  {
   "cell_type": "code",
   "execution_count": 15,
   "metadata": {},
   "outputs": [],
   "source": [
    "clf1 = tree.DecisionTreeClassifier()\n",
    "clf1 = clf1.fit(X_val,y_val)"
   ]
  },
  {
   "cell_type": "code",
   "execution_count": 16,
   "metadata": {},
   "outputs": [
    {
     "data": {
      "text/plain": [
       "0.6924428822495606"
      ]
     },
     "execution_count": 16,
     "metadata": {},
     "output_type": "execute_result"
    }
   ],
   "source": [
    "stored_Tvalues1=clf1.predict(X_train)\n",
    "accuracy_score(y_train,stored_Tvalues1) # here stored_Tvalues is y_predict"
   ]
  },
  {
   "cell_type": "code",
   "execution_count": 17,
   "metadata": {},
   "outputs": [],
   "source": [
    "clf = tree.DecisionTreeClassifier()\n",
    "clf = clf.fit(X_train,y_train)"
   ]
  },
  {
   "cell_type": "code",
   "execution_count": 18,
   "metadata": {},
   "outputs": [
    {
     "data": {
      "text/plain": [
       "0.7762237762237763"
      ]
     },
     "execution_count": 18,
     "metadata": {},
     "output_type": "execute_result"
    }
   ],
   "source": [
    "stored_Tvalues=clf.predict(X_val)\n",
    "accuracy_score(y_val,stored_Tvalues) # here stored_Tvalues is y_predict"
   ]
  },
  {
   "cell_type": "code",
   "execution_count": 19,
   "metadata": {},
   "outputs": [
    {
     "name": "stdout",
     "output_type": "stream",
     "text": [
      "Train Accuracy: 0.6924428822495606\n",
      "Validation Accuracy: 0.7762237762237763\n"
     ]
    }
   ],
   "source": [
    "print(\"Train Accuracy:\",accuracy_score(y_train,stored_Tvalues1))\n",
    "print(\"Validation Accuracy:\",accuracy_score(y_val,stored_Tvalues))"
   ]
  },
  {
   "cell_type": "markdown",
   "metadata": {},
   "source": [
    "# Naive Bayes"
   ]
  },
  {
   "cell_type": "code",
   "execution_count": 20,
   "metadata": {},
   "outputs": [],
   "source": [
    "from sklearn.naive_bayes import GaussianNB"
   ]
  },
  {
   "cell_type": "code",
   "execution_count": 21,
   "metadata": {},
   "outputs": [],
   "source": [
    "gnb = GaussianNB()\n",
    "y_pred1 = gnb.fit(X_val, y_val).predict(X_train)"
   ]
  },
  {
   "cell_type": "code",
   "execution_count": 22,
   "metadata": {},
   "outputs": [
    {
     "data": {
      "text/plain": [
       "array([1, 0, 0, 1, 0, 0, 0, 1, 0, 1, 0, 1, 1, 0, 1, 0, 0, 1, 1, 0, 1, 0,\n",
       "       1, 0, 0, 1, 0, 0, 0, 0, 1, 0, 1, 0, 1, 0, 0, 0, 1, 1, 1, 1, 0, 0,\n",
       "       0, 0, 1, 1, 1, 0, 0, 1, 1, 1, 1, 0, 0, 0, 1, 1, 0, 0, 0, 0, 0, 0,\n",
       "       1, 1, 1, 0, 1, 0, 0, 0, 0, 0, 0, 0, 1, 1, 0, 0, 1, 0, 0, 0, 1, 1,\n",
       "       0, 0, 1, 0, 1, 0, 0, 0, 1, 0, 0, 0, 1, 0, 0, 0, 1, 0, 0, 0, 1, 0,\n",
       "       1, 1, 0, 1, 1, 1, 1, 0, 1, 1, 1, 0, 0, 1, 0, 0, 0, 0, 0, 1, 0, 1,\n",
       "       0, 1, 1, 0, 1, 1, 0, 0, 0, 1, 1, 0, 0, 1, 0, 0, 1, 0, 1, 0, 1, 1,\n",
       "       1, 0, 1, 1, 0, 1, 0, 0, 1, 1, 1, 0, 0, 1, 1, 0, 0, 0, 0, 0, 1, 1,\n",
       "       0, 0, 0, 0, 1, 0, 1, 0, 1, 0, 0, 0, 0, 0, 1, 1, 0, 0, 0, 0, 1, 0,\n",
       "       0, 0, 0, 1, 1, 1, 1, 1, 0, 1, 1, 0, 0, 0, 0, 1, 0, 1, 0, 0, 1, 0,\n",
       "       1, 0, 0, 1, 0, 1, 1, 0, 0, 0, 0, 1, 0, 0, 0, 1, 0, 1, 0, 1, 0, 0,\n",
       "       0, 0, 0, 0, 0, 1, 0, 0, 0, 0, 1, 1, 0, 1, 0, 1, 0, 0, 1, 0, 0, 0,\n",
       "       0, 0, 1, 0, 1, 0, 1, 0, 0, 1, 0, 0, 1, 1, 0, 0, 0, 1, 0, 0, 0, 0,\n",
       "       1, 0, 1, 0, 0, 1, 1, 0, 0, 1, 0, 1, 1, 0, 1, 0, 0, 0, 1, 0, 0, 0,\n",
       "       0, 1, 0, 0, 0, 1, 1, 0, 1, 1, 1, 1, 0, 0, 0, 0, 0, 1, 0, 0, 1, 1,\n",
       "       1, 0, 0, 0, 0, 1, 1, 1, 1, 0, 1, 0, 1, 0, 0, 1, 0, 0, 0, 0, 0, 0,\n",
       "       1, 0, 0, 0, 0, 0, 0, 0, 0, 0, 0, 0, 1, 0, 0, 1, 0, 1, 0, 0, 1, 0,\n",
       "       0, 0, 1, 0, 0, 0, 0, 0, 1, 0, 0, 1, 0, 0, 0, 0, 1, 1, 0, 1, 0, 1,\n",
       "       0, 0, 0, 1, 1, 1, 1, 0, 0, 0, 0, 1, 1, 0, 0, 0, 0, 0, 0, 0, 1, 1,\n",
       "       0, 1, 1, 1, 0, 1, 1, 1, 0, 0, 0, 0, 0, 1, 1, 0, 0, 0, 0, 0, 0, 1,\n",
       "       0, 0, 1, 0, 1, 0, 0, 0, 0, 0, 1, 0, 0, 1, 0, 0, 1, 0, 1, 0, 1, 1,\n",
       "       0, 1, 0, 0, 0, 1, 1, 1, 0, 1, 0, 0, 0, 1, 0, 0, 1, 0, 0, 0, 0, 1,\n",
       "       1, 0, 1, 1, 0, 1, 1, 1, 1, 1, 0, 0, 0, 0, 0, 1, 1, 1, 0, 0, 1, 1,\n",
       "       1, 0, 0, 0, 0, 1, 0, 0, 1, 0, 0, 0, 0, 1, 1, 1, 0, 0, 0, 0, 0, 1,\n",
       "       1, 1, 0, 1, 1, 1, 1, 1, 0, 0, 0, 0, 0, 1, 0, 1, 1, 0, 0, 1, 1, 0,\n",
       "       1, 1, 1, 1, 1, 1, 0, 1, 1, 1, 0, 1, 1, 0, 0, 0, 0, 1, 1],\n",
       "      dtype=int64)"
      ]
     },
     "execution_count": 22,
     "metadata": {},
     "output_type": "execute_result"
    }
   ],
   "source": [
    "y_pred1"
   ]
  },
  {
   "cell_type": "code",
   "execution_count": 23,
   "metadata": {},
   "outputs": [],
   "source": [
    "gnb = GaussianNB()\n",
    "y_pred = gnb.fit(X_train, y_train).predict(X_val)"
   ]
  },
  {
   "cell_type": "code",
   "execution_count": 24,
   "metadata": {},
   "outputs": [
    {
     "data": {
      "text/plain": [
       "array([0, 0, 1, 0, 1, 0, 0, 0, 0, 1, 0, 0, 1, 1, 0, 0, 1, 1, 1, 0, 0, 0,\n",
       "       0, 1, 0, 0, 0, 0, 1, 1, 0, 1, 1, 1, 0, 0, 0, 1, 1, 1, 0, 1, 0, 1,\n",
       "       1, 0, 1, 0, 0, 0, 0, 0, 0, 0, 0, 0, 0, 1, 0, 1, 1, 0, 1, 1, 0, 1,\n",
       "       0, 0, 0, 1, 0, 0, 0, 0, 0, 1, 1, 0, 0, 1, 0, 0, 1, 0, 0, 1, 1, 0,\n",
       "       1, 0, 0, 1, 0, 1, 0, 1, 0, 0, 1, 0, 0, 0, 1, 0, 0, 1, 1, 0, 0, 0,\n",
       "       0, 0, 0, 1, 0, 1, 0, 0, 1, 1, 0, 0, 1, 0, 1, 0, 1, 1, 0, 0, 0, 0,\n",
       "       0, 0, 0, 0, 1, 1, 1, 0, 0, 0, 1], dtype=int64)"
      ]
     },
     "execution_count": 24,
     "metadata": {},
     "output_type": "execute_result"
    }
   ],
   "source": [
    "y_pred"
   ]
  },
  {
   "cell_type": "code",
   "execution_count": 25,
   "metadata": {},
   "outputs": [
    {
     "name": "stdout",
     "output_type": "stream",
     "text": [
      "Train Accuracy: 0.7662565905096661\n",
      "Validation Accuracy: 0.7902097902097902\n"
     ]
    }
   ],
   "source": [
    "print(\"Train Accuracy:\",accuracy_score(y_train, y_pred1))\n",
    "print(\"Validation Accuracy:\",accuracy_score(y_val, y_pred))"
   ]
  },
  {
   "cell_type": "markdown",
   "metadata": {},
   "source": [
    "# Accuracy Table"
   ]
  },
  {
   "cell_type": "code",
   "execution_count": 26,
   "metadata": {},
   "outputs": [],
   "source": [
    "Type_list=[\"Bayesian Neural Networks Optimizer\",\"Manually Tuned Neural Network\",\"Decision Tree Classifier\",\"Naive Bayes\"]\n",
    "Train_acc=[acc[-1],score[1],accuracy_score(y_train,stored_Tvalues1),accuracy_score(y_train, y_pred1)]\n",
    "Test_acc=[val_acc[-1],score[0],accuracy_score(y_val,stored_Tvalues),accuracy_score(y_val, y_pred)]"
   ]
  },
  {
   "cell_type": "code",
   "execution_count": 27,
   "metadata": {},
   "outputs": [
    {
     "data": {
      "text/plain": [
       "[0.8312829732894897,\n",
       " 0.6223776340484619,\n",
       " 0.6924428822495606,\n",
       " 0.7662565905096661]"
      ]
     },
     "execution_count": 27,
     "metadata": {},
     "output_type": "execute_result"
    }
   ],
   "source": [
    "Train_acc"
   ]
  },
  {
   "cell_type": "code",
   "execution_count": 28,
   "metadata": {},
   "outputs": [
    {
     "data": {
      "text/plain": [
       "[0.811188817024231, 0.6407181620597839, 0.7762237762237763, 0.7902097902097902]"
      ]
     },
     "execution_count": 28,
     "metadata": {},
     "output_type": "execute_result"
    }
   ],
   "source": [
    "Test_acc"
   ]
  },
  {
   "cell_type": "code",
   "execution_count": 29,
   "metadata": {},
   "outputs": [],
   "source": [
    "data={\"Method\":Type_list,\"Accuracy (train)\":Train_acc,\"Accuracy (validation)\":Test_acc}"
   ]
  },
  {
   "cell_type": "code",
   "execution_count": 30,
   "metadata": {},
   "outputs": [],
   "source": [
    "Accuracydf=pd.DataFrame(data)"
   ]
  },
  {
   "cell_type": "code",
   "execution_count": 31,
   "metadata": {},
   "outputs": [
    {
     "data": {
      "text/html": [
       "<div>\n",
       "<style scoped>\n",
       "    .dataframe tbody tr th:only-of-type {\n",
       "        vertical-align: middle;\n",
       "    }\n",
       "\n",
       "    .dataframe tbody tr th {\n",
       "        vertical-align: top;\n",
       "    }\n",
       "\n",
       "    .dataframe thead th {\n",
       "        text-align: right;\n",
       "    }\n",
       "</style>\n",
       "<table border=\"1\" class=\"dataframe\">\n",
       "  <thead>\n",
       "    <tr style=\"text-align: right;\">\n",
       "      <th></th>\n",
       "      <th>Method</th>\n",
       "      <th>Accuracy (train)</th>\n",
       "      <th>Accuracy (validation)</th>\n",
       "    </tr>\n",
       "  </thead>\n",
       "  <tbody>\n",
       "    <tr>\n",
       "      <th>0</th>\n",
       "      <td>Bayesian Neural Networks Optimizer</td>\n",
       "      <td>0.831283</td>\n",
       "      <td>0.811189</td>\n",
       "    </tr>\n",
       "    <tr>\n",
       "      <th>1</th>\n",
       "      <td>Manually Tuned Neural Network</td>\n",
       "      <td>0.622378</td>\n",
       "      <td>0.640718</td>\n",
       "    </tr>\n",
       "    <tr>\n",
       "      <th>2</th>\n",
       "      <td>Decision Tree Classifier</td>\n",
       "      <td>0.692443</td>\n",
       "      <td>0.776224</td>\n",
       "    </tr>\n",
       "    <tr>\n",
       "      <th>3</th>\n",
       "      <td>Naive Bayes</td>\n",
       "      <td>0.766257</td>\n",
       "      <td>0.790210</td>\n",
       "    </tr>\n",
       "  </tbody>\n",
       "</table>\n",
       "</div>"
      ],
      "text/plain": [
       "                               Method  Accuracy (train)  Accuracy (validation)\n",
       "0  Bayesian Neural Networks Optimizer          0.831283               0.811189\n",
       "1       Manually Tuned Neural Network          0.622378               0.640718\n",
       "2            Decision Tree Classifier          0.692443               0.776224\n",
       "3                         Naive Bayes          0.766257               0.790210"
      ]
     },
     "execution_count": 31,
     "metadata": {},
     "output_type": "execute_result"
    }
   ],
   "source": [
    "Accuracydf "
   ]
  },
  {
   "cell_type": "code",
   "execution_count": null,
   "metadata": {},
   "outputs": [],
   "source": []
  }
 ],
 "metadata": {
  "kernelspec": {
   "display_name": "Python 3 (ipykernel)",
   "language": "python",
   "name": "python3"
  },
  "language_info": {
   "codemirror_mode": {
    "name": "ipython",
    "version": 3
   },
   "file_extension": ".py",
   "mimetype": "text/x-python",
   "name": "python",
   "nbconvert_exporter": "python",
   "pygments_lexer": "ipython3",
   "version": "3.9.7"
  }
 },
 "nbformat": 4,
 "nbformat_minor": 4
}
